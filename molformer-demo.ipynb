{
 "cells": [
  {
   "cell_type": "markdown",
   "metadata": {},
   "source": [
    "# Inference using the MolFormer Model"
   ]
  },
  {
   "cell_type": "markdown",
   "metadata": {},
   "source": [
    "In this notebook, we show how to perform inference using GT4SD and finetuned variants of the MolFormer model. The current existing models have been trained based on the datasets provided by the [official MolFormer repository]https://github.com/IBM/molformer)."
   ]
  },
  {
   "cell_type": "markdown",
   "metadata": {},
   "source": [
    "### Models for regression\n",
    "\n",
    "This method can be used for any regression task."
   ]
  },
  {
   "cell_type": "code",
   "execution_count": 1,
   "metadata": {},
   "outputs": [
    {
     "name": "stdout",
     "output_type": "stream",
     "text": [
      "\n",
      "DEVICE: cuda\n",
      "\n",
      "using bucket=gt4sd-cos-properties-artifacts path=/home/dev/.gt4sd/properties/molecules/molformer/regression/molformer_alpha_public_test prefix=molecules/molformer/regression/molformer_alpha_public_test\n",
      "using bucket=gt4sd-cos-hub-properties-artifacts path=/home/dev/.gt4sd/properties/molecules/molformer/regression/molformer_alpha_public_test prefix=molecules/molformer/regression/molformer_alpha_public_test\n"
     ]
    },
    {
     "name": "stderr",
     "output_type": "stream",
     "text": [
      "/home/dev/work/openad_models/molformer_inference_service/.venv.backup/lib/python3.10/site-packages/pytorch_lightning/utilities/migration/utils.py:49: PossibleUserWarning: The loaded checkpoint was produced with Lightning v2.2.1, which is newer than your current Lightning version: v2.0.1\n",
      "  rank_zero_warn(\n",
      "/home/dev/work/openad_models/molformer_inference_service/.venv.backup/lib/python3.10/site-packages/fast_transformers/feature_maps/fourier_features.py:37: UserWarning: torch.qr is deprecated in favor of torch.linalg.qr and will be removed in a future PyTorch release.\n",
      "The boolean parameter 'some' has been replaced with a string parameter 'mode'.\n",
      "Q, R = torch.qr(A, some)\n",
      "should be replaced with\n",
      "Q, R = torch.linalg.qr(A, 'reduced' if some else 'complete') (Triggered internally at ../aten/src/ATen/native/BatchLinearAlgebra.cpp:2425.)\n",
      "  Q, _ = torch.qr(block)\n"
     ]
    },
    {
     "data": {
      "text/plain": [
       "[69.46662902832031]"
      ]
     },
     "execution_count": 1,
     "metadata": {},
     "output_type": "execute_result"
    }
   ],
   "source": [
    "# from gt4sd.properties.molecules import MOLECULE_PROPERTY_PREDICTOR_FACTORY\n",
    "from molformer_inference.common.properties.molecules import MOLECULE_PROPERTY_PREDICTOR_FACTORY\n",
    "\n",
    "property_class, parameters_class = MOLECULE_PROPERTY_PREDICTOR_FACTORY[\"molformer_regression\"]\n",
    "model = property_class(parameters_class(algorithm_version=\"molformer_alpha_public_test\"))\n",
    "\n",
    "model(input=[\"OC12COC3=NCC1C23\"])"
   ]
  },
  {
   "cell_type": "markdown",
   "metadata": {},
   "source": [
    "### Models for classification\n",
    "\n",
    "This method can be used for any binary classification task."
   ]
  },
  {
   "cell_type": "markdown",
   "metadata": {},
   "source": []
  },
  {
   "cell_type": "code",
   "execution_count": 2,
   "metadata": {},
   "outputs": [
    {
     "name": "stdout",
     "output_type": "stream",
     "text": [
      "\n",
      "DEVICE: cuda\n",
      "\n",
      "using bucket=gt4sd-cos-properties-artifacts path=/home/dev/.gt4sd/properties/molecules/molformer/classification/molformer_bace_public_test prefix=molecules/molformer/classification/molformer_bace_public_test\n",
      "using bucket=gt4sd-cos-hub-properties-artifacts path=/home/dev/.gt4sd/properties/molecules/molformer/classification/molformer_bace_public_test prefix=molecules/molformer/classification/molformer_bace_public_test\n"
     ]
    },
    {
     "name": "stderr",
     "output_type": "stream",
     "text": [
      "Lightning automatically upgraded your loaded checkpoint from v1.7.7 to v2.0.1. To apply the upgrade to your files permanently, run `python -m pytorch_lightning.utilities.upgrade_checkpoint --file ../../../.gt4sd/properties/molecules/molformer/classification/molformer_bace_public_test/model.ckpt`\n"
     ]
    },
    {
     "data": {
      "text/plain": [
       "[1]"
      ]
     },
     "execution_count": 2,
     "metadata": {},
     "output_type": "execute_result"
    }
   ],
   "source": [
    "# from gt4sd.properties.molecules import MOLECULE_PROPERTY_PREDICTOR_FACTORY\n",
    "from molformer_inference.common.properties.molecules import MOLECULE_PROPERTY_PREDICTOR_FACTORY\n",
    "\n",
    "property_class, parameters_class = MOLECULE_PROPERTY_PREDICTOR_FACTORY[\"molformer_classification\"]\n",
    "model = property_class(parameters_class(algorithm_version=\"molformer_bace_public_test\"))\n",
    "\n",
    "model(input=[\"OC12COC3=NCC1C23\"])"
   ]
  },
  {
   "cell_type": "markdown",
   "metadata": {},
   "source": [
    "### Molformer for multiclass classification\n",
    "\n",
    "This method can be used for any multiclass classification task."
   ]
  },
  {
   "cell_type": "code",
   "execution_count": 3,
   "metadata": {},
   "outputs": [
    {
     "name": "stdout",
     "output_type": "stream",
     "text": [
      "\n",
      "DEVICE: cuda\n",
      "\n",
      "using bucket=gt4sd-cos-properties-artifacts path=/home/dev/.gt4sd/properties/molecules/molformer/multitask_classification/molformer_clintox_test prefix=molecules/molformer/multitask_classification/molformer_clintox_test\n",
      "using bucket=gt4sd-cos-hub-properties-artifacts path=/home/dev/.gt4sd/properties/molecules/molformer/multitask_classification/molformer_clintox_test prefix=molecules/molformer/multitask_classification/molformer_clintox_test\n"
     ]
    },
    {
     "name": "stderr",
     "output_type": "stream",
     "text": [
      "Lightning automatically upgraded your loaded checkpoint from v1.7.7 to v2.0.1. To apply the upgrade to your files permanently, run `python -m pytorch_lightning.utilities.upgrade_checkpoint --file ../../../.gt4sd/properties/molecules/molformer/multitask_classification/molformer_clintox_test/model.ckpt`\n"
     ]
    },
    {
     "name": "stdout",
     "output_type": "stream",
     "text": [
      "['FDA_APPROVED']\n"
     ]
    }
   ],
   "source": [
    "property_class, parameters_class = MOLECULE_PROPERTY_PREDICTOR_FACTORY[\"molformer_multitask_classification\"]\n",
    "model = property_class(parameters_class(algorithm_version=\"molformer_clintox_test\"))\n",
    "\n",
    "print(model([\"Ic1cc(ccc1)C[NH2+]C[C@@H](O)[C@@H](NC(=O)c1cc(cc(c1)C)C(=O)N(CCC)CCC)Cc1cc(F)cc(F)c1\"]))"
   ]
  }
 ],
 "metadata": {
  "kernelspec": {
   "display_name": ".venv",
   "language": "python",
   "name": "python3"
  },
  "language_info": {
   "codemirror_mode": {
    "name": "ipython",
    "version": 3
   },
   "file_extension": ".py",
   "mimetype": "text/x-python",
   "name": "python",
   "nbconvert_exporter": "python",
   "pygments_lexer": "ipython3",
   "version": "3.10.12"
  }
 },
 "nbformat": 4,
 "nbformat_minor": 4
}
